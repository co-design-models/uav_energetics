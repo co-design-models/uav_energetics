{
 "cells": [
  {
   "cell_type": "code",
   "execution_count": 1,
   "metadata": {
    "collapsed": false
   },
   "outputs": [
    {
     "name": "stderr",
     "output_type": "stream",
     "text": [
      "ERROR: Line magic function `%autoreload` not found.\n",
      "/Volumes/1506-env_fault/sw/canopy/User/lib/python2.7/site-packages/matplotlib/__init__.py:1350: UserWarning:  This call to matplotlib.use() has no effect\n",
      "because the backend has already been chosen;\n",
      "matplotlib.use() must be called *before* pylab, matplotlib.pyplot,\n",
      "or matplotlib.backends is imported for the first time.\n",
      "\n",
      "  warnings.warn(_use_error_msg)\n"
     ]
    }
   ],
   "source": [
    "%matplotlib inline\n",
    "%autoreload 2\n",
    "from mcdp_ipython_utils import *\n",
    "from mcdp_library import *"
   ]
  },
  {
   "cell_type": "code",
   "execution_count": 2,
   "metadata": {
    "collapsed": false
   },
   "outputs": [
    {
     "name": "stdout",
     "output_type": "stream",
     "text": [
      "SimpleWrap\n",
      "  provides   capacity (ℝᶜ[J]) \n",
      "  provides   missions (ℝᶜ[]) \n",
      "  requires maintenance (ℝᶜ[s]) \n",
      "  requires       cost (ℝᶜ[$]) \n",
      "  requires       mass (ℝᶜ[g]) \n",
      "  | Series: %  ℝᶜ[J]×ℝᶜ[] -> ℝᶜ[s]×ℝᶜ[$]×ℝᶜ[g]\n",
      "  | \\ Series: %  ℝᶜ[J]×ℝᶜ[] -> (ℝᶜ[g]×ℝᶜ[s])×ℝᶜ[$]\n",
      "  | . \\ Mux([1, [0, 0]])\n",
      "  | . \\ Series: %  ℝᶜ[]×(ℝᶜ[J]×ℝᶜ[J]) -> (ℝᶜ[g]×ℝᶜ[s])×ℝᶜ[$]\n",
      "  | . . \\ Parallel  % ℝᶜ[]×(ℝᶜ[J]×ℝᶜ[J]) -> ℝᶜ[s]×(ℝᶜ[g]×ℝᶜ[$])\n",
      "  | . . . \\ Series: %  ℝᶜ[] -> ℝᶜ[s]\n",
      "  | . . . . \\ GenericUnary(× 0.002 )\n",
      "  | . . . . \\ GenericUnary(× 120 s)\n",
      "  | . . . \\ Parallel  % ℝᶜ[J]×ℝᶜ[J] -> ℝᶜ[g]×ℝᶜ[$]\n",
      "  | . . . . \\ Series: %  ℝᶜ[J] -> ℝᶜ[g]\n",
      "  | . . . . . \\ GenericUnary(× 0.01 kg/Wh)\n",
      "  | . . . . . \\ WrapAMap(LinearMapComp:ℝᶜ[J*kg/Wh]→ℝᶜ[g])\n",
      "  | . . . . \\ Series: %  ℝᶜ[J] -> ℝᶜ[$]\n",
      "  | . . . . . \\ GenericUnary(× 0.293255132 $/Wh)\n",
      "  | . . . . . \\ WrapAMap(LinearMapComp:ℝᶜ[J*$/Wh]→ℝᶜ[$])\n",
      "  | . . \\ Series: %  ℝᶜ[s]×(ℝᶜ[g]×ℝᶜ[$]) -> (ℝᶜ[g]×ℝᶜ[s])×ℝᶜ[$]\n",
      "  | . . . \\ Mux([[(1, 0), 0], (1, 1)])\n",
      "  | . . . \\ Parallel  % (ℝᶜ[g]×ℝᶜ[s])×ℝᶜ[$] -> (ℝᶜ[g]×ℝᶜ[s])×ℝᶜ[$]\n",
      "  | . . . . \\ Id(ℝᶜ[g]×ℝᶜ[s])\n",
      "  | . . . . \\ WrapAMap(CombinedCeil(alpha=0.0, step=1.0, max_value=100.0))\n",
      "  | \\ Series: %  (ℝᶜ[g]×ℝᶜ[s])×ℝᶜ[$] -> ℝᶜ[s]×ℝᶜ[$]×ℝᶜ[g]\n",
      "  | . \\ Mux([[(0, 1), 1], (0, 0)])\n",
      "  | . \\ Series: %  (ℝᶜ[s]×ℝᶜ[$])×ℝᶜ[g] -> ℝᶜ[s]×ℝᶜ[$]×ℝᶜ[g]\n",
      "  | . . \\ Parallel  % (ℝᶜ[s]×ℝᶜ[$])×ℝᶜ[g] -> (ℝᶜ[s]×ℝᶜ[$])×ℝᶜ[g]\n",
      "  | . . . \\ Id(ℝᶜ[s]×ℝᶜ[$])\n",
      "  | . . . \\ WrapAMap(CombinedCeil(alpha=0.0, step=10.0, max_value=10000.0))\n",
      "  | . . \\ Mux([(0, 0), (0, 1), 1])\n"
     ]
    },
    {
     "name": "stderr",
     "output_type": "stream",
     "text": [
      "/Volumes/1604-mcdp/data/env_mcdp/src/mcdp/src/mcdp_library/library.py:72: UserWarning: sys.path hack needs to change\n",
      "  warnings.warn('sys.path hack needs to change')\n"
     ]
    }
   ],
   "source": [
    "lib = MCDPLibrary()\n",
    "lib = lib.add_search_dir('.')\n",
    "_, batteries = lib.load_ndp('batteries')\n",
    "_, bat_NiMH = lib.load_ndp('bat_NiMH')\n",
    "print bat_NiMH"
   ]
  },
  {
   "cell_type": "code",
   "execution_count": 3,
   "metadata": {
    "collapsed": false
   },
   "outputs": [],
   "source": []
  },
  {
   "cell_type": "code",
   "execution_count": 3,
   "metadata": {
    "collapsed": false
   },
   "outputs": [
    {
     "name": "stdout",
     "output_type": "stream",
     "text": [
      "{'capacity': (100, 'Wh'), 'missions': (1000, '[]')}\n",
      "query: ⟨capacity:360000 J, missions:1000 ⟩\n",
      "results: ↑{⟨maintenance:160 s, cost:36 $, mass:520 g⟩, ⟨maintenance:240 s, cost:15 $, mass:3340 g⟩, ⟨maintenance:240 s, cost:30 $, mass:1000 g⟩}\n",
      "Unit(value=ℝᶜ[$], where=Where('$'))\n",
      "ℝᶜ[$]\n",
      "Unit(value=ℝᶜ[s], where=Where('s'))\n",
      "ℝᶜ[s]\n",
      "Unit(value=ℝᶜ[$], where=Where('$'))\n",
      "ℝᶜ[$]\n",
      "Unit(value=ℝᶜ[s], where=Where('s'))\n",
      "ℝᶜ[s]\n",
      "Unit(value=ℝᶜ[$], where=Where('$'))\n",
      "ℝᶜ[$]\n",
      "Unit(value=ℝᶜ[s], where=Where('s'))\n",
      "ℝᶜ[s]\n",
      "[{'cost': 15.0, 'maintenance': 240.0}, {'cost': 30.0, 'maintenance': 240.0}, {'cost': 36.0, 'maintenance': 160.0}]\n"
     ]
    }
   ],
   "source": [
    "query = dict(missions=(1000, \"[]\"), capacity = (100, 'Wh'))\n",
    "result_like = dict(maintenance=\"s\", cost=\"$\")\n",
    "res = friendly_solve(batteries, query=query, result_like=result_like)\n",
    "print res"
   ]
  },
  {
   "cell_type": "code",
   "execution_count": 4,
   "metadata": {
    "collapsed": false
   },
   "outputs": [],
   "source": []
  },
  {
   "cell_type": "markdown",
   "metadata": {},
   "source": []
  }
 ],
 "metadata": {
  "kernelspec": {
   "display_name": "Python 2",
   "language": "python",
   "name": "python2"
  },
  "language_info": {
   "codemirror_mode": {
    "name": "ipython",
    "version": 2
   },
   "file_extension": ".py",
   "mimetype": "text/x-python",
   "name": "python",
   "nbconvert_exporter": "python",
   "pygments_lexer": "ipython2",
   "version": "2.7.11"
  }
 },
 "nbformat": 4,
 "nbformat_minor": 0
}
