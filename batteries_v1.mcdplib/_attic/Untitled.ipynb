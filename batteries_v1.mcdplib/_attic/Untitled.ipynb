{
 "cells": [
  {
   "cell_type": "code",
   "execution_count": 4,
   "metadata": {
    "collapsed": false
   },
   "outputs": [],
   "source": [
    "%matplotlib inline\n",
    "\n",
    "from mcdp_ipython_utils import *\n",
    "from mcdp_library import *"
   ]
  },
  {
   "cell_type": "code",
   "execution_count": 5,
   "metadata": {
    "collapsed": false
   },
   "outputs": [
    {
     "name": "stderr",
     "output_type": "stream",
     "text": [
      "/Volumes/1604-mcdp/data/env_mcdp/src/mcdp/src/mcdp_library/library.py:72: UserWarning: sys.path hack needs to change\n",
      "  warnings.warn('sys.path hack needs to change')\n"
     ]
    }
   ],
   "source": [
    "lib = MCDPLibrary()\n",
    "lib = lib.add_search_dir('.')\n",
    "_, batteries = lib.load_ndp('batteries')\n",
    "_, bat_NiMH = lib.load_ndp('bat_NiMH')\n"
   ]
  },
  {
   "cell_type": "code",
   "execution_count": null,
   "metadata": {
    "collapsed": false
   },
   "outputs": [],
   "source": []
  },
  {
   "cell_type": "code",
   "execution_count": 7,
   "metadata": {
    "collapsed": false
   },
   "outputs": [],
   "source": [
    "from reprep.plot_utils.axes import *"
   ]
  },
  {
   "cell_type": "code",
   "execution_count": 8,
   "metadata": {
    "collapsed": false
   },
   "outputs": [
    {
     "ename": "NameError",
     "evalue": "name 'cycol' is not defined",
     "output_type": "error",
     "traceback": [
      "\u001b[0;31m---------------------------------------------------------------------------\u001b[0m",
      "\u001b[0;31mNameError\u001b[0m                                 Traceback (most recent call last)",
      "\u001b[0;32m<ipython-input-8-c2c30b74afb1>\u001b[0m in \u001b[0;36m<module>\u001b[0;34m()\u001b[0m\n\u001b[1;32m     14\u001b[0m \u001b[0;34m\u001b[0m\u001b[0m\n\u001b[1;32m     15\u001b[0m \u001b[0;32mfor\u001b[0m \u001b[0mquery\u001b[0m \u001b[0;32min\u001b[0m \u001b[0mqueries\u001b[0m\u001b[0;34m:\u001b[0m\u001b[0;34m\u001b[0m\u001b[0m\n\u001b[0;32m---> 16\u001b[0;31m     \u001b[0mc\u001b[0m\u001b[0;34m=\u001b[0m\u001b[0mcycol\u001b[0m\u001b[0;34m(\u001b[0m\u001b[0;34m)\u001b[0m\u001b[0;34m\u001b[0m\u001b[0m\n\u001b[0m\u001b[1;32m     17\u001b[0m     \u001b[0mres\u001b[0m \u001b[0;34m=\u001b[0m \u001b[0mfriendly_solve\u001b[0m\u001b[0;34m(\u001b[0m\u001b[0mbatteries\u001b[0m\u001b[0;34m,\u001b[0m \u001b[0mquery\u001b[0m\u001b[0;34m=\u001b[0m\u001b[0mquery\u001b[0m\u001b[0;34m,\u001b[0m \u001b[0mresult_like\u001b[0m\u001b[0;34m=\u001b[0m\u001b[0mresult_like\u001b[0m\u001b[0;34m)\u001b[0m\u001b[0;34m\u001b[0m\u001b[0m\n\u001b[1;32m     18\u001b[0m     \u001b[0mresults\u001b[0m\u001b[0;34m.\u001b[0m\u001b[0mappend\u001b[0m\u001b[0;34m(\u001b[0m\u001b[0mres\u001b[0m\u001b[0;34m)\u001b[0m\u001b[0;34m\u001b[0m\u001b[0m\n",
      "\u001b[0;31mNameError\u001b[0m: name 'cycol' is not defined"
     ]
    },
    {
     "data": {
      "text/plain": [
       "<matplotlib.figure.Figure at 0x1180b9710>"
      ]
     },
     "metadata": {},
     "output_type": "display_data"
    }
   ],
   "source": [
    "import numpy as np\n",
    "\n",
    "c1 = {\n",
    "    \"capacity\": (np.linspace(50, 3000, 10), \"Wh\"),\n",
    "    \"missions\": ( 1000, \"[]\"),\n",
    "}\n",
    "\n",
    "\n",
    "from matplotlib import pylab\n",
    "pylab.figure()\n",
    "\n",
    "queries = list(get_combinations(c1))\n",
    "results = []                                  \n",
    "\n",
    "for query in queries:     \n",
    "    c=cycol()\n",
    "    res = friendly_solve(batteries, query=query, result_like=result_like)\n",
    "    results.append(res)\n",
    "\n",
    "#     print('results: %s' % a)\n",
    "\n",
    "def generate_colors(n):\n",
    "    \"\"\" Generates n color strings. \"\"\"\n",
    "    from itertools import cycle\n",
    "    cycol = cycle('bgrcmk').next\n",
    "    colors = [cycol() for _ in range(n)]\n",
    "    return colors\n",
    "\n",
    "@contract(queries='list[N](dict)', results='list[N](dict)', what_to_plot='dict')\n",
    "def plot_all_directions(queries, results, what_to_plot):\n",
    "    \"\"\"\n",
    "        result_like \n",
    "        \n",
    "        result_like = dict(maintenance=\"s\", cost=\"$\", mass='kg')\n",
    "    \"\"\"\n",
    "    n = len(queries)\n",
    "    assert n == len(results)\n",
    "    colors = generate_colors(n)\n",
    "    \n",
    "    import itertools\n",
    "    axes = list(what_to_plot)\n",
    "    axes_combinations = list(itertools.combinations(axes, 2))\n",
    "    \n",
    "    for a1,a2 in axes:\n",
    "        \n",
    "    \n",
    "    \n",
    "    import matplotlib.pyplot as plt\n",
    "#fs = [plt.figure(), plt.figure(),plt.figure()]\n",
    "    a = to_numpy_array(result_like, res)\n",
    "\n",
    "\n",
    "    plt.figure(1)\n",
    "    plt.plot(a['cost'], a['maintenance'], 's', color=c)\n",
    "    plt.figure(2)\n",
    "    plt.plot(a['mass'], a['maintenance'], 's', color=c)\n",
    "    plt.figure(3)\n",
    "    plt.plot(a['mass'], a['cost'], 's', color=c)\n",
    "\n",
    "    def s(what) :\n",
    "        return '%s [%s]' % (what, result_like[what])\n",
    "\n",
    "\n",
    "    plt.figure(1)\n",
    "    plt.xlabel(s('cost'))\n",
    "    plt.ylabel(s('maintenance'))\n",
    "    y_axis_extra_space(pylab)\n",
    "    x_axis_extra_space(pylab)\n",
    "\n",
    "    plt.figure(2)\n",
    "    plt.xlabel(s('mass'))\n",
    "    plt.ylabel(s('maintenance'))\n",
    "    y_axis_extra_space(pylab)\n",
    "    x_axis_extra_space(pylab)\n",
    "\n",
    "\n",
    "    plt.figure(3)\n",
    "    plt.xlabel(s('mass'))\n",
    "    plt.ylabel(s('cost'))\n",
    "    y_axis_extra_space(pylab)\n",
    "    x_axis_extra_space(pylab)\n",
    "\n",
    "plot_all_directions(queries, results, what_to_plot=result_like)\n",
    "    \n",
    "\n",
    "\n",
    "\n"
   ]
  },
  {
   "cell_type": "markdown",
   "metadata": {},
   "source": []
  },
  {
   "cell_type": "code",
   "execution_count": null,
   "metadata": {
    "collapsed": true
   },
   "outputs": [],
   "source": []
  }
 ],
 "metadata": {
  "kernelspec": {
   "display_name": "Python 2",
   "language": "python",
   "name": "python2"
  },
  "language_info": {
   "codemirror_mode": {
    "name": "ipython",
    "version": 2
   },
   "file_extension": ".py",
   "mimetype": "text/x-python",
   "name": "python",
   "nbconvert_exporter": "python",
   "pygments_lexer": "ipython2",
   "version": "2.7.11"
  }
 },
 "nbformat": 4,
 "nbformat_minor": 0
}
